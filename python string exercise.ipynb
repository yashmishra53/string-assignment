{
 "cells": [
  {
   "cell_type": "markdown",
   "id": "0dcdd791-ce24-4ee3-a92e-c9344b4a80aa",
   "metadata": {},
   "source": [
    "1. how do you concatenate two strings in python?\n",
    "2. what is the difference between the + operater and the join() method for concatenating string?\n",
    "3. how do you access individual characters in a string?\n",
    "4. what method is used to find the length of a string in python?\n",
    "5. how do you convert a string to uppercase in python?\n",
    "6. how can you convert a string to lowercase in python?\n",
    "7. what method is used to replace substring within a string?\n",
    "8. how can you split a string into a list of substirng based on a delimiter?\n",
    "9. how do you check if a string starts with a particular substrings?\n",
    "10. how do check if a string ends with a particular string?\n",
    "11. how can you remove leading and traling whitespace from a substring?\n",
    "12. what method is used to find the index of the first occurence of a substing withion a string?\n",
    "13. how can you count the number of occurence of a substring within a string?\n",
    "14. how do check if a string contains only alphabethic character?\n",
    "15. how do check if a string contains only numeric character?\n",
    "16. How can you check if a string is a palindrome?\n",
    "17. How can you reverse a string in Python?\n",
    "18. How do you format a string with placeholders for variable values?\n",
    "19. How do you access a substring of a string using slicing?\n",
    "20. How can you remove specific characters from a string in Python?"
   ]
  },
  {
   "cell_type": "markdown",
   "id": "8133b468-b74f-4247-b576-ac0834fba374",
   "metadata": {},
   "source": [
    "answer 1 :\n",
    "String concatenation simply means joining two or more strings together to form one single string.\n"
   ]
  },
  {
   "cell_type": "markdown",
   "id": "2f65e8b8-cfa1-4899-aa05-7722e9eedd4a",
   "metadata": {},
   "source": [
    "answer 2 :"
   ]
  },
  {
   "cell_type": "code",
   "execution_count": 5,
   "id": "3ff0402c-9995-48a2-81d4-35e178012403",
   "metadata": {},
   "outputs": [
    {
     "name": "stdout",
     "output_type": "stream",
     "text": [
      "yash mishra\n"
     ]
    }
   ],
   "source": [
    "# using operater (+)\n",
    "name = \"yash\"\n",
    "surname = \"mishra\"\n",
    "print(name + \" \" + surname)"
   ]
  },
  {
   "cell_type": "code",
   "execution_count": 10,
   "id": "95482e06-faea-447f-b2a7-622cf2d6d753",
   "metadata": {},
   "outputs": [
    {
     "name": "stdout",
     "output_type": "stream",
     "text": [
      "yash mishra\n"
     ]
    }
   ],
   "source": [
    "# using join()\n",
    "print(\" \".join([name,surname]))"
   ]
  },
  {
   "cell_type": "markdown",
   "id": "77588a72-c282-4134-84f7-7f1638742d05",
   "metadata": {},
   "source": [
    "answer 3 :"
   ]
  },
  {
   "cell_type": "code",
   "execution_count": 12,
   "id": "61e6de27-2662-4069-b0f0-51e39c7f90b5",
   "metadata": {},
   "outputs": [
    {
     "name": "stdout",
     "output_type": "stream",
     "text": [
      "y\n"
     ]
    }
   ],
   "source": [
    "#using string indexing\n",
    "print(name[0])"
   ]
  },
  {
   "cell_type": "markdown",
   "id": "169f599f-cc5f-4339-a0d7-a6b3b9f5aae0",
   "metadata": {},
   "source": [
    "answer 4 :"
   ]
  },
  {
   "cell_type": "code",
   "execution_count": 26,
   "id": "2290f894-7809-4b15-83ac-ac083f540cc4",
   "metadata": {},
   "outputs": [
    {
     "name": "stdout",
     "output_type": "stream",
     "text": [
      "11\n"
     ]
    }
   ],
   "source": [
    "print(len(name))"
   ]
  },
  {
   "cell_type": "markdown",
   "id": "2d3200a9-0234-42a7-9395-9940e71aaf1d",
   "metadata": {},
   "source": [
    "answer 5:"
   ]
  },
  {
   "cell_type": "code",
   "execution_count": 27,
   "id": "eaa0ba3b-b4a5-45fe-87e4-5504ec042964",
   "metadata": {},
   "outputs": [
    {
     "data": {
      "text/plain": [
       "'YASH MISHRA'"
      ]
     },
     "execution_count": 27,
     "metadata": {},
     "output_type": "execute_result"
    }
   ],
   "source": [
    "name.upper()"
   ]
  },
  {
   "cell_type": "markdown",
   "id": "2914d6f3-8995-4caa-a120-b1f228e0074f",
   "metadata": {},
   "source": [
    "answer 6:"
   ]
  },
  {
   "cell_type": "code",
   "execution_count": 28,
   "id": "96471283-81be-4fc6-bead-75b769520ab1",
   "metadata": {},
   "outputs": [
    {
     "data": {
      "text/plain": [
       "'yash mishra'"
      ]
     },
     "execution_count": 28,
     "metadata": {},
     "output_type": "execute_result"
    }
   ],
   "source": [
    "name.lower()"
   ]
  },
  {
   "cell_type": "markdown",
   "id": "8435e79f-90d1-4166-8c1b-f6d563ade2ac",
   "metadata": {},
   "source": [
    "answer 7:"
   ]
  },
  {
   "cell_type": "code",
   "execution_count": 29,
   "id": "9a04289f-e8d0-4be6-8d87-9485e1accba3",
   "metadata": {},
   "outputs": [
    {
     "data": {
      "text/plain": [
       "'amit mishra'"
      ]
     },
     "execution_count": 29,
     "metadata": {},
     "output_type": "execute_result"
    }
   ],
   "source": [
    "name.replace(\"yash\",\"amit\")"
   ]
  },
  {
   "cell_type": "code",
   "execution_count": 30,
   "id": "2d4040c9-e634-402b-8f94-59eeda2bdfc2",
   "metadata": {},
   "outputs": [
    {
     "data": {
      "text/plain": [
       "'yash mishra'"
      ]
     },
     "execution_count": 30,
     "metadata": {},
     "output_type": "execute_result"
    }
   ],
   "source": [
    "name"
   ]
  },
  {
   "cell_type": "markdown",
   "id": "67ab7ed1-5eb2-40f8-bd5e-7b7b13f19d6e",
   "metadata": {},
   "source": [
    "answer 8:"
   ]
  },
  {
   "cell_type": "code",
   "execution_count": 31,
   "id": "b323e761-8a99-44c9-bf77-a819e892891d",
   "metadata": {},
   "outputs": [
    {
     "data": {
      "text/plain": [
       "['yash', 'mishra']"
      ]
     },
     "execution_count": 31,
     "metadata": {},
     "output_type": "execute_result"
    }
   ],
   "source": [
    "name.split()"
   ]
  },
  {
   "cell_type": "markdown",
   "id": "daae6495-1efb-4b04-8392-dff35554e69e",
   "metadata": {},
   "source": [
    "answer 9:"
   ]
  },
  {
   "cell_type": "code",
   "execution_count": 40,
   "id": "5cc5ea52-aea1-4876-aa06-4aea90390e65",
   "metadata": {},
   "outputs": [
    {
     "data": {
      "text/plain": [
       "True"
      ]
     },
     "execution_count": 40,
     "metadata": {},
     "output_type": "execute_result"
    }
   ],
   "source": [
    "name.startswith(\"y\")"
   ]
  },
  {
   "cell_type": "code",
   "execution_count": 41,
   "id": "9e40ef38-cae4-4bb9-8ae1-3a8d50ac964a",
   "metadata": {},
   "outputs": [
    {
     "data": {
      "text/plain": [
       "False"
      ]
     },
     "execution_count": 41,
     "metadata": {},
     "output_type": "execute_result"
    }
   ],
   "source": [
    "name.startswith(\"m\")"
   ]
  },
  {
   "cell_type": "markdown",
   "id": "281bbed4-72a4-409b-93f7-ff227de69c87",
   "metadata": {},
   "source": [
    "answer 10:"
   ]
  },
  {
   "cell_type": "code",
   "execution_count": 46,
   "id": "36284714-a27d-482b-a372-2d686e535697",
   "metadata": {},
   "outputs": [
    {
     "data": {
      "text/plain": [
       "True"
      ]
     },
     "execution_count": 46,
     "metadata": {},
     "output_type": "execute_result"
    }
   ],
   "source": [
    "name.endswith(\"a\")"
   ]
  },
  {
   "cell_type": "markdown",
   "id": "b2f22e9f-eb61-4f67-9820-833d1dd4cc10",
   "metadata": {},
   "source": [
    "answer 11:"
   ]
  },
  {
   "cell_type": "code",
   "execution_count": 25,
   "id": "bffc08c9-d0cf-4d16-8fbc-3cc1df8915e6",
   "metadata": {},
   "outputs": [],
   "source": [
    "name = \"     yash mishra    \""
   ]
  },
  {
   "cell_type": "code",
   "execution_count": 19,
   "id": "15f25f4b-bc08-401d-a7c8-8bb419980b99",
   "metadata": {},
   "outputs": [
    {
     "data": {
      "text/plain": [
       "'     yash mishra'"
      ]
     },
     "execution_count": 19,
     "metadata": {},
     "output_type": "execute_result"
    }
   ],
   "source": [
    "name"
   ]
  },
  {
   "cell_type": "code",
   "execution_count": 20,
   "id": "c6985b09-eaeb-42ea-89df-13fbc8025861",
   "metadata": {},
   "outputs": [
    {
     "name": "stdout",
     "output_type": "stream",
     "text": [
      "     yash mishra\n"
     ]
    }
   ],
   "source": [
    "print(name)"
   ]
  },
  {
   "cell_type": "code",
   "execution_count": 21,
   "id": "adf0f0f0-7261-47a9-8387-343b7c4f4404",
   "metadata": {},
   "outputs": [
    {
     "data": {
      "text/plain": [
       "'yash mishra'"
      ]
     },
     "execution_count": 21,
     "metadata": {},
     "output_type": "execute_result"
    }
   ],
   "source": [
    "name.strip()"
   ]
  },
  {
   "cell_type": "code",
   "execution_count": 27,
   "id": "fbd2ffff-6086-4d35-8768-7ef28d049ada",
   "metadata": {},
   "outputs": [
    {
     "data": {
      "text/plain": [
       "'yash mishra    '"
      ]
     },
     "execution_count": 27,
     "metadata": {},
     "output_type": "execute_result"
    }
   ],
   "source": [
    "name.lstrip()"
   ]
  },
  {
   "cell_type": "code",
   "execution_count": 26,
   "id": "504cc7fb-2d10-4ab7-b75b-5565d1dec0a1",
   "metadata": {},
   "outputs": [
    {
     "data": {
      "text/plain": [
       "'     yash mishra'"
      ]
     },
     "execution_count": 26,
     "metadata": {},
     "output_type": "execute_result"
    }
   ],
   "source": [
    "name.rstrip()"
   ]
  },
  {
   "cell_type": "markdown",
   "id": "8421047f-d223-41d4-b0f4-41c29824bd1d",
   "metadata": {},
   "source": [
    "answer 12 :"
   ]
  },
  {
   "cell_type": "code",
   "execution_count": 97,
   "id": "9f3624f8-9df4-4384-90fd-3718579dcb30",
   "metadata": {},
   "outputs": [],
   "source": [
    "name = \"I am yash mishra\""
   ]
  },
  {
   "cell_type": "code",
   "execution_count": 98,
   "id": "91220476-ac9a-4fd3-87e8-27276771d79d",
   "metadata": {},
   "outputs": [
    {
     "data": {
      "text/plain": [
       "5"
      ]
     },
     "execution_count": 98,
     "metadata": {},
     "output_type": "execute_result"
    }
   ],
   "source": [
    "name.find(\"yash\")"
   ]
  },
  {
   "cell_type": "code",
   "execution_count": 99,
   "id": "c7d8f33f-2313-46aa-a43d-71bbea5f7155",
   "metadata": {},
   "outputs": [
    {
     "data": {
      "text/plain": [
       "5"
      ]
     },
     "execution_count": 99,
     "metadata": {},
     "output_type": "execute_result"
    }
   ],
   "source": [
    "name.index(\"y\")"
   ]
  },
  {
   "cell_type": "markdown",
   "id": "a6baacfc-8290-4286-912f-58f3c0c3cb6a",
   "metadata": {},
   "source": [
    "answer 13:"
   ]
  },
  {
   "cell_type": "code",
   "execution_count": 100,
   "id": "652af49e-e790-4687-9d29-8ab326033ef4",
   "metadata": {},
   "outputs": [],
   "source": [
    "name = \"i am iron man\""
   ]
  },
  {
   "cell_type": "code",
   "execution_count": 102,
   "id": "c84b4181-d190-47f3-a8fd-11b062ff391a",
   "metadata": {},
   "outputs": [
    {
     "data": {
      "text/plain": [
       "2"
      ]
     },
     "execution_count": 102,
     "metadata": {},
     "output_type": "execute_result"
    }
   ],
   "source": [
    "name.count(\"a\")"
   ]
  },
  {
   "cell_type": "markdown",
   "id": "2d2e7224-1e02-4908-9212-e0dd73967f95",
   "metadata": {},
   "source": [
    "answer 14:"
   ]
  },
  {
   "cell_type": "code",
   "execution_count": 48,
   "id": "a537b92c-c652-4de4-a2ee-e569bf621855",
   "metadata": {},
   "outputs": [],
   "source": [
    "name = \"yash mishra\""
   ]
  },
  {
   "cell_type": "code",
   "execution_count": 32,
   "id": "2b440081-ff16-4f69-8a98-ca8cdd5e10c7",
   "metadata": {},
   "outputs": [
    {
     "data": {
      "text/plain": [
       "False"
      ]
     },
     "execution_count": 32,
     "metadata": {},
     "output_type": "execute_result"
    }
   ],
   "source": [
    "name.isalpha()"
   ]
  },
  {
   "cell_type": "code",
   "execution_count": 33,
   "id": "fb3a009b-3b2a-4ca3-9141-7807d97658d4",
   "metadata": {},
   "outputs": [],
   "source": [
    "name=\"yashmishra\""
   ]
  },
  {
   "cell_type": "code",
   "execution_count": 43,
   "id": "4c665249-6d24-40f3-9895-4540d5d88ba2",
   "metadata": {},
   "outputs": [
    {
     "data": {
      "text/plain": [
       "True"
      ]
     },
     "execution_count": 43,
     "metadata": {},
     "output_type": "execute_result"
    }
   ],
   "source": [
    "name.isalpha()"
   ]
  },
  {
   "cell_type": "code",
   "execution_count": 44,
   "id": "d5daf02e-0ac9-4994-8847-b0be709ed724",
   "metadata": {},
   "outputs": [
    {
     "data": {
      "text/plain": [
       "True"
      ]
     },
     "execution_count": 44,
     "metadata": {},
     "output_type": "execute_result"
    }
   ],
   "source": [
    "name.isalnum()"
   ]
  },
  {
   "cell_type": "markdown",
   "id": "7d072656-d29c-48d0-b6d8-7ec7b396684f",
   "metadata": {},
   "source": [
    "answer 15:"
   ]
  },
  {
   "cell_type": "code",
   "execution_count": 37,
   "id": "03fb96fc-57da-4058-923c-11890d8b0d0d",
   "metadata": {},
   "outputs": [],
   "source": [
    "num= \"123456789\""
   ]
  },
  {
   "cell_type": "code",
   "execution_count": 38,
   "id": "48085886-083c-4296-85b8-a57e2de0ed9b",
   "metadata": {},
   "outputs": [
    {
     "data": {
      "text/plain": [
       "True"
      ]
     },
     "execution_count": 38,
     "metadata": {},
     "output_type": "execute_result"
    }
   ],
   "source": [
    "num.isdigit()"
   ]
  },
  {
   "cell_type": "code",
   "execution_count": 40,
   "id": "51b72d77-8f02-4255-a198-45bc5b52bbd7",
   "metadata": {},
   "outputs": [
    {
     "data": {
      "text/plain": [
       "True"
      ]
     },
     "execution_count": 40,
     "metadata": {},
     "output_type": "execute_result"
    }
   ],
   "source": [
    "num.isalnum()"
   ]
  },
  {
   "cell_type": "markdown",
   "id": "7740d0e7-b5a2-4142-863d-ca017f17fbed",
   "metadata": {},
   "source": [
    "answer 16:"
   ]
  },
  {
   "cell_type": "code",
   "execution_count": 11,
   "id": "4322cb4f-1a28-4074-b952-20eb02969254",
   "metadata": {},
   "outputs": [
    {
     "name": "stdout",
     "output_type": "stream",
     "text": [
      "it is palindrome\n"
     ]
    }
   ],
   "source": [
    "name =\"hannah\"\n",
    "reversed_name = name[::-1]\n",
    "\n",
    "if name == reversed_name:\n",
    "    print(\"it is palindrome\")\n",
    "else: \n",
    "    print(\"it is not palindrome\")"
   ]
  },
  {
   "cell_type": "code",
   "execution_count": 3,
   "id": "a95df464-af9a-45b3-9f27-4c713c70d568",
   "metadata": {},
   "outputs": [
    {
     "name": "stdout",
     "output_type": "stream",
     "text": [
      "it is a palindrome\n"
     ]
    }
   ],
   "source": [
    "print(\"it is a palindrome\")"
   ]
  },
  {
   "cell_type": "markdown",
   "id": "3ea33bf5-fe65-47b9-b506-a7ad50ff0269",
   "metadata": {},
   "source": [
    "answer 17:"
   ]
  },
  {
   "cell_type": "code",
   "execution_count": 50,
   "id": "2fb7bcaa-2d96-41b3-af38-cf09c78a96c0",
   "metadata": {},
   "outputs": [
    {
     "name": "stdout",
     "output_type": "stream",
     "text": [
      "arhsim hsay\n"
     ]
    }
   ],
   "source": [
    "print(name[::-1]) #  using slicing"
   ]
  },
  {
   "cell_type": "markdown",
   "id": "c5f0a8a3-70ea-435f-80bf-5975ce1cc495",
   "metadata": {},
   "source": [
    "answer 18:"
   ]
  },
  {
   "cell_type": "code",
   "execution_count": 60,
   "id": "0618da4d-6c44-4247-8117-059082d57aa7",
   "metadata": {},
   "outputs": [
    {
     "name": "stdout",
     "output_type": "stream",
     "text": [
      "my name is yash mishra i am 21 years old and i am from delhi\n"
     ]
    }
   ],
   "source": [
    "name=\"yash mishra\"\n",
    "age = 21\n",
    "city= \"delhi\"\n",
    "print(\"my name is {} i am {} years old and i am from {}\".format(name,age,city))"
   ]
  },
  {
   "cell_type": "code",
   "execution_count": 57,
   "id": "f1842822-9805-41d4-9a95-18bbb06d1e4d",
   "metadata": {},
   "outputs": [
    {
     "name": "stdout",
     "output_type": "stream",
     "text": [
      "my name is yash i am from 21 years old and i am from delhi\n"
     ]
    }
   ],
   "source": [
    "print(\"my name is %s i am from %s years old and i am from %s\"%(name,age,city))"
   ]
  },
  {
   "cell_type": "markdown",
   "id": "8b303f2d-0797-4972-94c8-5f409e76bec8",
   "metadata": {},
   "source": [
    "answer 19:"
   ]
  },
  {
   "cell_type": "code",
   "execution_count": 62,
   "id": "5f2da973-78d4-4ea4-ad3c-6bebc5f06333",
   "metadata": {},
   "outputs": [
    {
     "name": "stdout",
     "output_type": "stream",
     "text": [
      "yash mishra\n"
     ]
    }
   ],
   "source": [
    "print(name[0:11:])"
   ]
  },
  {
   "cell_type": "code",
   "execution_count": 69,
   "id": "ff5edfe4-3f1c-4d99-b452-d84232b5e51c",
   "metadata": {},
   "outputs": [
    {
     "name": "stdout",
     "output_type": "stream",
     "text": [
      "yash mishr\n"
     ]
    }
   ],
   "source": [
    "print(name[:-1:])"
   ]
  },
  {
   "cell_type": "markdown",
   "id": "c1d8ad79-4f1a-4c94-9a50-1c84208cd785",
   "metadata": {},
   "source": [
    "answer 20:"
   ]
  },
  {
   "cell_type": "code",
   "execution_count": null,
   "id": "f326da24-9b18-40cd-95e1-355efecbccd1",
   "metadata": {},
   "outputs": [],
   "source": []
  },
  {
   "cell_type": "code",
   "execution_count": null,
   "id": "50023042-a06b-41f2-99f9-752620400b7a",
   "metadata": {},
   "outputs": [],
   "source": []
  },
  {
   "cell_type": "code",
   "execution_count": null,
   "id": "7f4362b3-ffc9-4b84-a463-217dee1a28c5",
   "metadata": {},
   "outputs": [],
   "source": []
  },
  {
   "cell_type": "code",
   "execution_count": null,
   "id": "30d15625-0574-416c-9cbc-c98227df765f",
   "metadata": {},
   "outputs": [],
   "source": []
  },
  {
   "cell_type": "code",
   "execution_count": null,
   "id": "63980a8a-70b9-4c90-b986-6db4df9a81a6",
   "metadata": {},
   "outputs": [],
   "source": []
  },
  {
   "cell_type": "code",
   "execution_count": null,
   "id": "feadafb9-cb68-4d70-a98e-3f736a1de1b0",
   "metadata": {},
   "outputs": [],
   "source": []
  }
 ],
 "metadata": {
  "kernelspec": {
   "display_name": "Python [conda env:base] *",
   "language": "python",
   "name": "conda-base-py"
  },
  "language_info": {
   "codemirror_mode": {
    "name": "ipython",
    "version": 3
   },
   "file_extension": ".py",
   "mimetype": "text/x-python",
   "name": "python",
   "nbconvert_exporter": "python",
   "pygments_lexer": "ipython3",
   "version": "3.13.5"
  }
 },
 "nbformat": 4,
 "nbformat_minor": 5
}
